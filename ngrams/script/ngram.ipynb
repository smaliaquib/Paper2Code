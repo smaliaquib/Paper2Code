{
 "cells": [
  {
   "cell_type": "code",
   "execution_count": 1,
   "id": "668c6bbe-e749-4d39-afd6-0a761017a351",
   "metadata": {},
   "outputs": [],
   "source": [
    "from nltk.corpus import stopwords\n",
    "from nltk.tokenize import word_tokenize"
   ]
  },
  {
   "cell_type": "code",
   "execution_count": 2,
   "id": "79b37693-fbd1-4339-ba39-5555635d7cb9",
   "metadata": {},
   "outputs": [],
   "source": [
    "data_path = \"../dataset/berkley.txt\""
   ]
  },
  {
   "cell_type": "code",
   "execution_count": 3,
   "id": "cf818f16-d3ff-4b53-9177-e80d62495586",
   "metadata": {},
   "outputs": [],
   "source": [
    "with open(data_path) as f:\n",
    "    data = f.read()\n",
    "    f.close()"
   ]
  },
  {
   "cell_type": "code",
   "execution_count": 4,
   "id": "19cd9a4b-9b23-4e3c-9419-b0b7d005bbfa",
   "metadata": {},
   "outputs": [],
   "source": [
    "tokens = word_tokenize(data)"
   ]
  },
  {
   "cell_type": "code",
   "execution_count": 5,
   "id": "952fa014-4d9d-42b9-b05a-eea9ba8a79d0",
   "metadata": {},
   "outputs": [],
   "source": [
    "punc_list = [\"``\", \"''\", \",\", \".\", \"—\", \"-\", \";\", \":\", \"'\", \"\\\"\", \"’\"]"
   ]
  },
  {
   "cell_type": "code",
   "execution_count": 8,
   "id": "3646beff-9a73-4cae-adf9-93ef9ec5c29d",
   "metadata": {},
   "outputs": [],
   "source": [
    "l = []\n",
    "for token in tokens:\n",
    "    if token in punc_list:\n",
    "        l.append(\"</s>\")\n",
    "        l.append(\"<s>\")\n",
    "    else:\n",
    "        l.append(token)\n",
    "l.append(\"</s>\")\n",
    "l.insert(0, \"<s>\")"
   ]
  },
  {
   "cell_type": "code",
   "execution_count": 9,
   "id": "2214fbc0-57b8-4cf4-84a5-a7bd5d8a1f6e",
   "metadata": {},
   "outputs": [
    {
     "name": "stdout",
     "output_type": "stream",
     "text": [
      "['<s>', 'can', 'you', 'tell', 'me', 'about', 'any', 'good', 'cantonese', 'restaurants', 'close', 'by', 'mid', 'priced', 'thai', 'food', 'is', 'what', 'iâ€™m', 'looking', 'for', 'tell', 'me', 'about', 'chez', 'panisse', 'can', 'you', 'give', 'me', 'a', 'listing', 'of', 'the', 'kinds', 'of', 'food', 'that', 'are', 'available', 'iâ€™m', 'looking', 'for', 'a', 'good', 'place', 'to', 'eat', 'breakfast', 'when', 'is', 'caffe', 'venezia', 'open', 'during', 'the', 'day', '</s>']\n"
     ]
    }
   ],
   "source": [
    "print(l)"
   ]
  },
  {
   "cell_type": "markdown",
   "id": "944d8887-e8dc-4fd8-9c12-8e6cd8b9fef0",
   "metadata": {},
   "source": [
    "## Unigram"
   ]
  },
  {
   "cell_type": "code",
   "execution_count": 18,
   "id": "046d7e94-9ed9-4ecf-93c3-a120bb4df2a0",
   "metadata": {
    "scrolled": true
   },
   "outputs": [],
   "source": [
    "uni = {}\n",
    "for i in range(len(l)):\n",
    "    w = l[i]\n",
    "    uni[w] = uni.get(w, 0) + 1"
   ]
  },
  {
   "cell_type": "code",
   "execution_count": 19,
   "id": "df9fc7ba-9f08-4c23-aba1-be58c61baa48",
   "metadata": {
    "scrolled": true
   },
   "outputs": [
    {
     "data": {
      "text/plain": [
       "{'<s>': 1,\n",
       " 'can': 2,\n",
       " 'you': 2,\n",
       " 'tell': 2,\n",
       " 'me': 3,\n",
       " 'about': 2,\n",
       " 'any': 1,\n",
       " 'good': 2,\n",
       " 'cantonese': 1,\n",
       " 'restaurants': 1,\n",
       " 'close': 1,\n",
       " 'by': 1,\n",
       " 'mid': 1,\n",
       " 'priced': 1,\n",
       " 'thai': 1,\n",
       " 'food': 2,\n",
       " 'is': 2,\n",
       " 'what': 1,\n",
       " 'iâ€™m': 2,\n",
       " 'looking': 2,\n",
       " 'for': 2,\n",
       " 'chez': 1,\n",
       " 'panisse': 1,\n",
       " 'give': 1,\n",
       " 'a': 2,\n",
       " 'listing': 1,\n",
       " 'of': 2,\n",
       " 'the': 2,\n",
       " 'kinds': 1,\n",
       " 'that': 1,\n",
       " 'are': 1,\n",
       " 'available': 1,\n",
       " 'place': 1,\n",
       " 'to': 1,\n",
       " 'eat': 1,\n",
       " 'breakfast': 1,\n",
       " 'when': 1,\n",
       " 'caffe': 1,\n",
       " 'venezia': 1,\n",
       " 'open': 1,\n",
       " 'during': 1,\n",
       " 'day': 1,\n",
       " '</s>': 1}"
      ]
     },
     "execution_count": 19,
     "metadata": {},
     "output_type": "execute_result"
    }
   ],
   "source": [
    "uni"
   ]
  },
  {
   "cell_type": "markdown",
   "id": "bf5b0b2c-f8a6-4095-8d17-b85080812df9",
   "metadata": {},
   "source": [
    "## Bigram"
   ]
  },
  {
   "cell_type": "code",
   "execution_count": 21,
   "id": "90f427d5-76c9-4e24-a520-8c859cc2181f",
   "metadata": {},
   "outputs": [],
   "source": [
    "bi = {}\n",
    "for i in range(len(l)-1):\n",
    "    w = l[i]+ ' '+l[i+1]\n",
    "    bi[w] = bi.get(w, 0) + 1"
   ]
  },
  {
   "cell_type": "code",
   "execution_count": 31,
   "id": "0ac79584-73f8-47ea-9cbd-1886ee9b305f",
   "metadata": {
    "scrolled": true
   },
   "outputs": [],
   "source": [
    "## Bigram Probability\n",
    "\n",
    "bi_prob = {}\n",
    "for i in bi.keys():\n",
    "    # print(i.split(\" \")[0])\n",
    "    bi_prob[i] = bi.get(i) / uni[i.split(\" \")[0]]"
   ]
  },
  {
   "cell_type": "code",
   "execution_count": 32,
   "id": "eb5afa69-074b-4b1d-804c-b37e6d38e256",
   "metadata": {
    "scrolled": true
   },
   "outputs": [
    {
     "data": {
      "text/plain": [
       "{'<s> can': 1.0,\n",
       " 'can you': 1.0,\n",
       " 'you tell': 0.5,\n",
       " 'tell me': 1.0,\n",
       " 'me about': 0.6666666666666666,\n",
       " 'about any': 0.5,\n",
       " 'any good': 1.0,\n",
       " 'good cantonese': 0.5,\n",
       " 'cantonese restaurants': 1.0,\n",
       " 'restaurants close': 1.0,\n",
       " 'close by': 1.0,\n",
       " 'by mid': 1.0,\n",
       " 'mid priced': 1.0,\n",
       " 'priced thai': 1.0,\n",
       " 'thai food': 1.0,\n",
       " 'food is': 0.5,\n",
       " 'is what': 0.5,\n",
       " 'what iâ€™m': 1.0,\n",
       " 'iâ€™m looking': 1.0,\n",
       " 'looking for': 1.0,\n",
       " 'for tell': 0.5,\n",
       " 'about chez': 0.5,\n",
       " 'chez panisse': 1.0,\n",
       " 'panisse can': 1.0,\n",
       " 'you give': 0.5,\n",
       " 'give me': 1.0,\n",
       " 'me a': 0.3333333333333333,\n",
       " 'a listing': 0.5,\n",
       " 'listing of': 1.0,\n",
       " 'of the': 0.5,\n",
       " 'the kinds': 0.5,\n",
       " 'kinds of': 1.0,\n",
       " 'of food': 0.5,\n",
       " 'food that': 0.5,\n",
       " 'that are': 1.0,\n",
       " 'are available': 1.0,\n",
       " 'available iâ€™m': 1.0,\n",
       " 'for a': 0.5,\n",
       " 'a good': 0.5,\n",
       " 'good place': 0.5,\n",
       " 'place to': 1.0,\n",
       " 'to eat': 1.0,\n",
       " 'eat breakfast': 1.0,\n",
       " 'breakfast when': 1.0,\n",
       " 'when is': 1.0,\n",
       " 'is caffe': 0.5,\n",
       " 'caffe venezia': 1.0,\n",
       " 'venezia open': 1.0,\n",
       " 'open during': 1.0,\n",
       " 'during the': 1.0,\n",
       " 'the day': 0.5,\n",
       " 'day </s>': 1.0}"
      ]
     },
     "execution_count": 32,
     "metadata": {},
     "output_type": "execute_result"
    }
   ],
   "source": [
    "bi_prob"
   ]
  },
  {
   "cell_type": "code",
   "execution_count": null,
   "id": "3eecd3d1-2a66-4db6-8834-e13f6d42a410",
   "metadata": {},
   "outputs": [],
   "source": []
  },
  {
   "cell_type": "markdown",
   "id": "9fb6fcd1-d34f-4537-9bc4-cbec2cd7e380",
   "metadata": {},
   "source": [
    "## Predicting Next word"
   ]
  },
  {
   "cell_type": "code",
   "execution_count": 38,
   "id": "dc16cf02-2db5-43e1-b211-92bfc0e8acc9",
   "metadata": {},
   "outputs": [],
   "source": [
    "sentence = \"a\""
   ]
  },
  {
   "cell_type": "code",
   "execution_count": 39,
   "id": "ad4c1205-678e-4e3f-887f-217f48ffdcd4",
   "metadata": {},
   "outputs": [
    {
     "name": "stdout",
     "output_type": "stream",
     "text": [
      "a listing 1\n",
      "a good 1\n"
     ]
    }
   ],
   "source": [
    "for i, j in bi.items():\n",
    "    if i.split(\" \")[0] == sentence:\n",
    "        print(i, j)"
   ]
  },
  {
   "cell_type": "code",
   "execution_count": 40,
   "id": "bdb2719c-cb20-4d47-a545-c725a63dcb1d",
   "metadata": {},
   "outputs": [],
   "source": [
    "text = \"This is an example sentence to build a bigram model.\""
   ]
  },
  {
   "cell_type": "code",
   "execution_count": 43,
   "id": "8245078c-e848-47bf-8ff4-2403727d3dbe",
   "metadata": {},
   "outputs": [
    {
     "name": "stdout",
     "output_type": "stream",
     "text": [
      "'you' after 'can': (True, 1.0)\n",
      "'purple' after 'can': False\n"
     ]
    }
   ],
   "source": [
    "def is_plausible_word(bi_prob, prev_word, word, threshold=0.5):\n",
    "\n",
    "    bigram = f\"{prev_word} {word}\"\n",
    "    if bigram in bi_prob and bi_prob[bigram] >= threshold:\n",
    "        return True, bi_prob[bigram]\n",
    "    return False\n",
    "\n",
    "prev_word = \"can\"\n",
    "word1 = \"you\"  \n",
    "word2 = \"purple\"  \n",
    "\n",
    "print(f\"'{word1}' after '{prev_word}':\", is_plausible_word(bi_prob, prev_word, word1))\n",
    "print(f\"'{word2}' after '{prev_word}':\", is_plausible_word(bi_prob, prev_word, word2))"
   ]
  },
  {
   "cell_type": "code",
   "execution_count": 44,
   "id": "68c27ad3-05a6-43a8-a519-13fc5654fd3d",
   "metadata": {},
   "outputs": [
    {
     "data": {
      "text/plain": [
       "'This is an example sentence to build a bigram model.'"
      ]
     },
     "execution_count": 44,
     "metadata": {},
     "output_type": "execute_result"
    }
   ],
   "source": [
    "text"
   ]
  },
  {
   "cell_type": "code",
   "execution_count": 78,
   "id": "c33a9326-5be1-48d3-ae14-be439123f896",
   "metadata": {},
   "outputs": [],
   "source": [
    "import numpy as np\n",
    "\n",
    "def calculate_perplexity(bi_prob, text):\n",
    "    tokens = text.lower().split()\n",
    "    total_tokens = len(tokens)\n",
    "    log_probs = 0\n",
    "    for i in range(total_tokens - 1):\n",
    "        prev_word, curr_word = tokens[i], tokens[i + 1]\n",
    "        bigram = prev_word + \" \" + curr_word\n",
    "        if bigram in bi:\n",
    "            count = bi[bigram]\n",
    "        else:\n",
    "            count = 0\n",
    "        print(count)"
   ]
  },
  {
   "cell_type": "code",
   "execution_count": 79,
   "id": "216d1b5f-dcea-42a3-9ead-ce8aa35c6226",
   "metadata": {},
   "outputs": [
    {
     "name": "stdout",
     "output_type": "stream",
     "text": [
      "0\n",
      "0\n",
      "0\n",
      "0\n",
      "0\n",
      "0\n",
      "0\n",
      "0\n",
      "0\n",
      "Perplexity of the bigram model on the text: None\n"
     ]
    }
   ],
   "source": [
    "perplexity_score = calculate_perplexity(bi_prob, text)\n",
    "print(f\"Perplexity of the bigram model on the text: {perplexity_score}\")"
   ]
  },
  {
   "cell_type": "code",
   "execution_count": 81,
   "id": "89c57782-5646-43f1-873e-9e1c0209fc1c",
   "metadata": {},
   "outputs": [
    {
     "data": {
      "text/plain": [
       "{'<s> can': 1,\n",
       " 'can you': 2,\n",
       " 'you tell': 1,\n",
       " 'tell me': 2,\n",
       " 'me about': 2,\n",
       " 'about any': 1,\n",
       " 'any good': 1,\n",
       " 'good cantonese': 1,\n",
       " 'cantonese restaurants': 1,\n",
       " 'restaurants close': 1,\n",
       " 'close by': 1,\n",
       " 'by mid': 1,\n",
       " 'mid priced': 1,\n",
       " 'priced thai': 1,\n",
       " 'thai food': 1,\n",
       " 'food is': 1,\n",
       " 'is what': 1,\n",
       " 'what iâ€™m': 1,\n",
       " 'iâ€™m looking': 2,\n",
       " 'looking for': 2,\n",
       " 'for tell': 1,\n",
       " 'about chez': 1,\n",
       " 'chez panisse': 1,\n",
       " 'panisse can': 1,\n",
       " 'you give': 1,\n",
       " 'give me': 1,\n",
       " 'me a': 1,\n",
       " 'a listing': 1,\n",
       " 'listing of': 1,\n",
       " 'of the': 1,\n",
       " 'the kinds': 1,\n",
       " 'kinds of': 1,\n",
       " 'of food': 1,\n",
       " 'food that': 1,\n",
       " 'that are': 1,\n",
       " 'are available': 1,\n",
       " 'available iâ€™m': 1,\n",
       " 'for a': 1,\n",
       " 'a good': 1,\n",
       " 'good place': 1,\n",
       " 'place to': 1,\n",
       " 'to eat': 1,\n",
       " 'eat breakfast': 1,\n",
       " 'breakfast when': 1,\n",
       " 'when is': 1,\n",
       " 'is caffe': 1,\n",
       " 'caffe venezia': 1,\n",
       " 'venezia open': 1,\n",
       " 'open during': 1,\n",
       " 'during the': 1,\n",
       " 'the day': 1,\n",
       " 'day </s>': 1}"
      ]
     },
     "execution_count": 81,
     "metadata": {},
     "output_type": "execute_result"
    }
   ],
   "source": [
    "bi"
   ]
  },
  {
   "cell_type": "code",
   "execution_count": 82,
   "id": "03f19432-b6c6-4cdc-a819-03ed2e39f84e",
   "metadata": {},
   "outputs": [
    {
     "name": "stdout",
     "output_type": "stream",
     "text": [
      "Perplexity of the bigram model on the text: 1000000.0000000024\n"
     ]
    }
   ],
   "source": [
    "import numpy as np\n",
    "\n",
    "def calculate_perplexity(bi_prob, text, smoothing=1e-6):\n",
    "    tokens = text.lower().split()\n",
    "    tokens = [\"<s>\"] + tokens + [\"</s>\"]  # Add start and end tokens\n",
    "    total_tokens = len(tokens)\n",
    "    log_probs = 0\n",
    "\n",
    "    for i in range(total_tokens - 1):\n",
    "        prev_word, curr_word = tokens[i], tokens[i + 1]\n",
    "        bigram = f\"{prev_word} {curr_word}\"\n",
    "        \n",
    "        # Get the bigram probability, apply smoothing for missing bigrams\n",
    "        prob = bi_prob.get(bigram, smoothing)\n",
    "        log_probs += np.log2(prob)\n",
    "\n",
    "    # Calculate perplexity\n",
    "    perplexity = 2 ** (-log_probs / (total_tokens - 1))\n",
    "    return perplexity\n",
    "\n",
    "# Example usage\n",
    "text = \"This is an example sentence to build a bigram model.\"\n",
    "perplexity_score = calculate_perplexity(bi_prob, text)\n",
    "print(f\"Perplexity of the bigram model on the text: {perplexity_score}\")"
   ]
  },
  {
   "cell_type": "code",
   "execution_count": null,
   "id": "b45d4a96-af50-48da-aa05-5df4cf1b68b3",
   "metadata": {},
   "outputs": [],
   "source": []
  }
 ],
 "metadata": {
  "kernelspec": {
   "display_name": "Python 3 (ipykernel)",
   "language": "python",
   "name": "python3"
  },
  "language_info": {
   "codemirror_mode": {
    "name": "ipython",
    "version": 3
   },
   "file_extension": ".py",
   "mimetype": "text/x-python",
   "name": "python",
   "nbconvert_exporter": "python",
   "pygments_lexer": "ipython3",
   "version": "3.12.4"
  }
 },
 "nbformat": 4,
 "nbformat_minor": 5
}
