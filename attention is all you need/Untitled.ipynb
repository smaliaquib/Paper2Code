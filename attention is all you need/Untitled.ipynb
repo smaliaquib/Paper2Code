{
 "cells": [
  {
   "cell_type": "code",
   "execution_count": 13,
   "id": "bdd9a247-326a-4af8-84f3-ea068e9ca00a",
   "metadata": {},
   "outputs": [],
   "source": [
    "import torch\n",
    "import numpy as np\n",
    "import math\n",
    "# import torch.nn.functional as F\n",
    "import torch.nn as nn"
   ]
  },
  {
   "cell_type": "code",
   "execution_count": 15,
   "id": "45426e9e-033c-4e4a-a2dc-2d94a7db1c86",
   "metadata": {},
   "outputs": [
    {
     "data": {
      "text/plain": [
       "Embedding(100, 300)"
      ]
     },
     "execution_count": 15,
     "metadata": {},
     "output_type": "execute_result"
    }
   ],
   "source": [
    "vocab_size = 100\n",
    "d_model = 300\n",
    "\n",
    "nn.Embedding(100, 300)\n",
    "# F.embedding(100, 300)"
   ]
  },
  {
   "cell_type": "code",
   "execution_count": 16,
   "id": "2c07ec39-b99f-4a6f-a9d4-3cbceee75c8a",
   "metadata": {},
   "outputs": [
    {
     "ename": "TypeError",
     "evalue": "unsupported operand type(s) for *: 'Embedding' and 'float'",
     "output_type": "error",
     "traceback": [
      "\u001b[1;31m---------------------------------------------------------------------------\u001b[0m",
      "\u001b[1;31mTypeError\u001b[0m                                 Traceback (most recent call last)",
      "Cell \u001b[1;32mIn[16], line 1\u001b[0m\n\u001b[1;32m----> 1\u001b[0m nn\u001b[38;5;241m.\u001b[39mEmbedding(\u001b[38;5;241m100\u001b[39m, \u001b[38;5;241m300\u001b[39m) \u001b[38;5;241m*\u001b[39m math\u001b[38;5;241m.\u001b[39msqrt(d_model)\n",
      "\u001b[1;31mTypeError\u001b[0m: unsupported operand type(s) for *: 'Embedding' and 'float'"
     ]
    }
   ],
   "source": [
    "nn.Embedding(100, 300) * math.sqrt(d_model)"
   ]
  },
  {
   "cell_type": "code",
   "execution_count": null,
   "id": "7294f8c6-af93-4c67-bc6f-dbc395df34ae",
   "metadata": {},
   "outputs": [],
   "source": []
  },
  {
   "cell_type": "code",
   "execution_count": 23,
   "id": "be065f73-7c7b-401c-8efc-d2e7c3d87039",
   "metadata": {},
   "outputs": [],
   "source": [
    "seq_len = 128"
   ]
  },
  {
   "cell_type": "code",
   "execution_count": 28,
   "id": "238ea097-8f80-418e-95ef-f5850c7ac111",
   "metadata": {},
   "outputs": [
    {
     "data": {
      "text/plain": [
       "torch.Size([128, 300])"
      ]
     },
     "execution_count": 28,
     "metadata": {},
     "output_type": "execute_result"
    }
   ],
   "source": [
    "pe = torch.zeros(seq_len, d_model)\n",
    "pe.shape"
   ]
  },
  {
   "cell_type": "code",
   "execution_count": 29,
   "id": "397517ff-2de6-44ac-9ad8-c79383c903e5",
   "metadata": {},
   "outputs": [
    {
     "data": {
      "text/plain": [
       "tensor([[  0.],\n",
       "        [  1.],\n",
       "        [  2.],\n",
       "        [  3.],\n",
       "        [  4.],\n",
       "        [  5.],\n",
       "        [  6.],\n",
       "        [  7.],\n",
       "        [  8.],\n",
       "        [  9.],\n",
       "        [ 10.],\n",
       "        [ 11.],\n",
       "        [ 12.],\n",
       "        [ 13.],\n",
       "        [ 14.],\n",
       "        [ 15.],\n",
       "        [ 16.],\n",
       "        [ 17.],\n",
       "        [ 18.],\n",
       "        [ 19.],\n",
       "        [ 20.],\n",
       "        [ 21.],\n",
       "        [ 22.],\n",
       "        [ 23.],\n",
       "        [ 24.],\n",
       "        [ 25.],\n",
       "        [ 26.],\n",
       "        [ 27.],\n",
       "        [ 28.],\n",
       "        [ 29.],\n",
       "        [ 30.],\n",
       "        [ 31.],\n",
       "        [ 32.],\n",
       "        [ 33.],\n",
       "        [ 34.],\n",
       "        [ 35.],\n",
       "        [ 36.],\n",
       "        [ 37.],\n",
       "        [ 38.],\n",
       "        [ 39.],\n",
       "        [ 40.],\n",
       "        [ 41.],\n",
       "        [ 42.],\n",
       "        [ 43.],\n",
       "        [ 44.],\n",
       "        [ 45.],\n",
       "        [ 46.],\n",
       "        [ 47.],\n",
       "        [ 48.],\n",
       "        [ 49.],\n",
       "        [ 50.],\n",
       "        [ 51.],\n",
       "        [ 52.],\n",
       "        [ 53.],\n",
       "        [ 54.],\n",
       "        [ 55.],\n",
       "        [ 56.],\n",
       "        [ 57.],\n",
       "        [ 58.],\n",
       "        [ 59.],\n",
       "        [ 60.],\n",
       "        [ 61.],\n",
       "        [ 62.],\n",
       "        [ 63.],\n",
       "        [ 64.],\n",
       "        [ 65.],\n",
       "        [ 66.],\n",
       "        [ 67.],\n",
       "        [ 68.],\n",
       "        [ 69.],\n",
       "        [ 70.],\n",
       "        [ 71.],\n",
       "        [ 72.],\n",
       "        [ 73.],\n",
       "        [ 74.],\n",
       "        [ 75.],\n",
       "        [ 76.],\n",
       "        [ 77.],\n",
       "        [ 78.],\n",
       "        [ 79.],\n",
       "        [ 80.],\n",
       "        [ 81.],\n",
       "        [ 82.],\n",
       "        [ 83.],\n",
       "        [ 84.],\n",
       "        [ 85.],\n",
       "        [ 86.],\n",
       "        [ 87.],\n",
       "        [ 88.],\n",
       "        [ 89.],\n",
       "        [ 90.],\n",
       "        [ 91.],\n",
       "        [ 92.],\n",
       "        [ 93.],\n",
       "        [ 94.],\n",
       "        [ 95.],\n",
       "        [ 96.],\n",
       "        [ 97.],\n",
       "        [ 98.],\n",
       "        [ 99.],\n",
       "        [100.],\n",
       "        [101.],\n",
       "        [102.],\n",
       "        [103.],\n",
       "        [104.],\n",
       "        [105.],\n",
       "        [106.],\n",
       "        [107.],\n",
       "        [108.],\n",
       "        [109.],\n",
       "        [110.],\n",
       "        [111.],\n",
       "        [112.],\n",
       "        [113.],\n",
       "        [114.],\n",
       "        [115.],\n",
       "        [116.],\n",
       "        [117.],\n",
       "        [118.],\n",
       "        [119.],\n",
       "        [120.],\n",
       "        [121.],\n",
       "        [122.],\n",
       "        [123.],\n",
       "        [124.],\n",
       "        [125.],\n",
       "        [126.],\n",
       "        [127.]])"
      ]
     },
     "execution_count": 29,
     "metadata": {},
     "output_type": "execute_result"
    }
   ],
   "source": [
    "position = torch.arange(0, seq_len, dtype=torch.float).unsqueeze(1)\n",
    "position"
   ]
  },
  {
   "cell_type": "code",
   "execution_count": 30,
   "id": "286fb470-fa75-4811-b820-072543c0c362",
   "metadata": {},
   "outputs": [
    {
     "data": {
      "text/plain": [
       "tensor([1.0000e+00, 9.4044e-01, 8.8444e-01, 8.3176e-01, 7.8223e-01, 7.3564e-01,\n",
       "        6.9183e-01, 6.5063e-01, 6.1188e-01, 5.7544e-01, 5.4117e-01, 5.0894e-01,\n",
       "        4.7863e-01, 4.5013e-01, 4.2332e-01, 3.9811e-01, 3.7440e-01, 3.5210e-01,\n",
       "        3.3113e-01, 3.1141e-01, 2.9286e-01, 2.7542e-01, 2.5902e-01, 2.4359e-01,\n",
       "        2.2909e-01, 2.1544e-01, 2.0261e-01, 1.9055e-01, 1.7920e-01, 1.6853e-01,\n",
       "        1.5849e-01, 1.4905e-01, 1.4017e-01, 1.3183e-01, 1.2397e-01, 1.1659e-01,\n",
       "        1.0965e-01, 1.0312e-01, 9.6977e-02, 9.1201e-02, 8.5770e-02, 8.0662e-02,\n",
       "        7.5858e-02, 7.1340e-02, 6.7091e-02, 6.3096e-02, 5.9338e-02, 5.5804e-02,\n",
       "        5.2481e-02, 4.9355e-02, 4.6416e-02, 4.3652e-02, 4.1052e-02, 3.8607e-02,\n",
       "        3.6308e-02, 3.4145e-02, 3.2112e-02, 3.0200e-02, 2.8401e-02, 2.6710e-02,\n",
       "        2.5119e-02, 2.3623e-02, 2.2216e-02, 2.0893e-02, 1.9649e-02, 1.8478e-02,\n",
       "        1.7378e-02, 1.6343e-02, 1.5370e-02, 1.4454e-02, 1.3594e-02, 1.2784e-02,\n",
       "        1.2023e-02, 1.1307e-02, 1.0633e-02, 1.0000e-02, 9.4044e-03, 8.8444e-03,\n",
       "        8.3176e-03, 7.8223e-03, 7.3564e-03, 6.9183e-03, 6.5063e-03, 6.1188e-03,\n",
       "        5.7544e-03, 5.4117e-03, 5.0894e-03, 4.7863e-03, 4.5013e-03, 4.2332e-03,\n",
       "        3.9811e-03, 3.7440e-03, 3.5210e-03, 3.3113e-03, 3.1141e-03, 2.9286e-03,\n",
       "        2.7542e-03, 2.5902e-03, 2.4359e-03, 2.2909e-03, 2.1544e-03, 2.0261e-03,\n",
       "        1.9055e-03, 1.7920e-03, 1.6853e-03, 1.5849e-03, 1.4905e-03, 1.4017e-03,\n",
       "        1.3183e-03, 1.2397e-03, 1.1659e-03, 1.0965e-03, 1.0312e-03, 9.6977e-04,\n",
       "        9.1201e-04, 8.5770e-04, 8.0662e-04, 7.5858e-04, 7.1340e-04, 6.7091e-04,\n",
       "        6.3096e-04, 5.9338e-04, 5.5804e-04, 5.2481e-04, 4.9355e-04, 4.6416e-04,\n",
       "        4.3652e-04, 4.1052e-04, 3.8607e-04, 3.6308e-04, 3.4145e-04, 3.2112e-04,\n",
       "        3.0200e-04, 2.8401e-04, 2.6710e-04, 2.5119e-04, 2.3623e-04, 2.2216e-04,\n",
       "        2.0893e-04, 1.9649e-04, 1.8479e-04, 1.7378e-04, 1.6343e-04, 1.5370e-04,\n",
       "        1.4454e-04, 1.3594e-04, 1.2784e-04, 1.2023e-04, 1.1307e-04, 1.0633e-04])"
      ]
     },
     "execution_count": 30,
     "metadata": {},
     "output_type": "execute_result"
    }
   ],
   "source": [
    "div_term = torch.exp(torch.arange(0, d_model, 2).float() * (-np.log(10000.0) / d_model))\n",
    "div_term"
   ]
  },
  {
   "cell_type": "code",
   "execution_count": 31,
   "id": "170fb267-532c-43fa-8fb5-80ca938d9b5b",
   "metadata": {},
   "outputs": [
    {
     "data": {
      "text/plain": [
       "tensor([[ 0.0000e+00,  0.0000e+00,  0.0000e+00,  ...,  0.0000e+00,\n",
       "          0.0000e+00,  0.0000e+00],\n",
       "        [ 8.4147e-01,  0.0000e+00,  8.0782e-01,  ...,  0.0000e+00,\n",
       "          1.0633e-04,  0.0000e+00],\n",
       "        [ 9.0930e-01,  0.0000e+00,  9.5231e-01,  ...,  0.0000e+00,\n",
       "          2.1267e-04,  0.0000e+00],\n",
       "        ...,\n",
       "        [-6.1604e-01,  0.0000e+00, -9.6788e-01,  ...,  0.0000e+00,\n",
       "          1.3291e-02,  0.0000e+00],\n",
       "        [ 3.2999e-01,  0.0000e+00, -7.7358e-01,  ...,  0.0000e+00,\n",
       "          1.3398e-02,  0.0000e+00],\n",
       "        [ 9.7263e-01,  0.0000e+00,  5.5943e-02,  ...,  0.0000e+00,\n",
       "          1.3504e-02,  0.0000e+00]])"
      ]
     },
     "execution_count": 31,
     "metadata": {},
     "output_type": "execute_result"
    }
   ],
   "source": [
    "pe[:,0::2] = torch.sin(position * div_term)\n",
    "pe"
   ]
  },
  {
   "cell_type": "code",
   "execution_count": 35,
   "id": "6359b523-600b-4001-9b74-cb4054eba4b8",
   "metadata": {},
   "outputs": [
    {
     "data": {
      "text/plain": [
       "tensor([[ 0.0000e+00,  1.0000e+00,  0.0000e+00,  ...,  1.0000e+00,\n",
       "          0.0000e+00,  1.0000e+00],\n",
       "        [ 8.4147e-01,  5.4030e-01,  8.0782e-01,  ...,  1.0000e+00,\n",
       "          1.0633e-04,  1.0000e+00],\n",
       "        [ 9.0930e-01, -4.1615e-01,  9.5231e-01,  ...,  1.0000e+00,\n",
       "          2.1267e-04,  1.0000e+00],\n",
       "        ...,\n",
       "        [-6.1604e-01,  7.8771e-01, -9.6788e-01,  ...,  9.9990e-01,\n",
       "          1.3291e-02,  9.9991e-01],\n",
       "        [ 3.2999e-01,  9.4398e-01, -7.7358e-01,  ...,  9.9990e-01,\n",
       "          1.3398e-02,  9.9991e-01],\n",
       "        [ 9.7263e-01,  2.3236e-01,  5.5943e-02,  ...,  9.9990e-01,\n",
       "          1.3504e-02,  9.9991e-01]])"
      ]
     },
     "execution_count": 35,
     "metadata": {},
     "output_type": "execute_result"
    }
   ],
   "source": [
    "pe[:,1::2] = torch.cos(position * div_term)\n",
    "pe"
   ]
  },
  {
   "cell_type": "code",
   "execution_count": 36,
   "id": "a26158a7-6a95-47bd-b5a9-2e6d8f06fef5",
   "metadata": {},
   "outputs": [
    {
     "data": {
      "text/plain": [
       "tensor([[[ 0.0000e+00,  1.0000e+00,  0.0000e+00,  ...,  1.0000e+00,\n",
       "           0.0000e+00,  1.0000e+00],\n",
       "         [ 8.4147e-01,  5.4030e-01,  8.0782e-01,  ...,  1.0000e+00,\n",
       "           1.0633e-04,  1.0000e+00],\n",
       "         [ 9.0930e-01, -4.1615e-01,  9.5231e-01,  ...,  1.0000e+00,\n",
       "           2.1267e-04,  1.0000e+00],\n",
       "         ...,\n",
       "         [-6.1604e-01,  7.8771e-01, -9.6788e-01,  ...,  9.9990e-01,\n",
       "           1.3291e-02,  9.9991e-01],\n",
       "         [ 3.2999e-01,  9.4398e-01, -7.7358e-01,  ...,  9.9990e-01,\n",
       "           1.3398e-02,  9.9991e-01],\n",
       "         [ 9.7263e-01,  2.3236e-01,  5.5943e-02,  ...,  9.9990e-01,\n",
       "           1.3504e-02,  9.9991e-01]]])"
      ]
     },
     "execution_count": 36,
     "metadata": {},
     "output_type": "execute_result"
    }
   ],
   "source": [
    "pe.unsqueeze(0)"
   ]
  },
  {
   "cell_type": "code",
   "execution_count": 34,
   "id": "4c76a6c0-c043-48f0-880c-c7e920b068bf",
   "metadata": {},
   "outputs": [
    {
     "data": {
      "text/plain": [
       "torch.Size([1, 128, 300])"
      ]
     },
     "execution_count": 34,
     "metadata": {},
     "output_type": "execute_result"
    }
   ],
   "source": [
    "pe.unsqueeze(0).shape"
   ]
  },
  {
   "cell_type": "code",
   "execution_count": null,
   "id": "210e7064-c40c-4f43-a068-8466ef57e72e",
   "metadata": {},
   "outputs": [],
   "source": []
  },
  {
   "cell_type": "code",
   "execution_count": null,
   "id": "b6661c84-5667-4fc0-9f49-d0cb4d73bbcf",
   "metadata": {},
   "outputs": [],
   "source": []
  },
  {
   "cell_type": "code",
   "execution_count": 37,
   "id": "9330eb24-7313-41a4-9a8b-333bbf8f722d",
   "metadata": {},
   "outputs": [
    {
     "data": {
      "text/plain": [
       "Parameter containing:\n",
       "tensor([1.], requires_grad=True)"
      ]
     },
     "execution_count": 37,
     "metadata": {},
     "output_type": "execute_result"
    }
   ],
   "source": [
    "nn.Parameter(torch.ones(1))"
   ]
  },
  {
   "cell_type": "code",
   "execution_count": 38,
   "id": "01650ac5-ff72-4c02-bf4d-3171fe456caa",
   "metadata": {},
   "outputs": [
    {
     "data": {
      "text/plain": [
       "Parameter containing:\n",
       "tensor([0.], requires_grad=True)"
      ]
     },
     "execution_count": 38,
     "metadata": {},
     "output_type": "execute_result"
    }
   ],
   "source": [
    "nn.Parameter(torch.zeros(1))"
   ]
  },
  {
   "cell_type": "code",
   "execution_count": null,
   "id": "4aa35285-353d-47b5-904c-e70ac8646ba6",
   "metadata": {},
   "outputs": [],
   "source": []
  }
 ],
 "metadata": {
  "kernelspec": {
   "display_name": "torch_gpu",
   "language": "python",
   "name": "python3"
  },
  "language_info": {
   "codemirror_mode": {
    "name": "ipython",
    "version": 3
   },
   "file_extension": ".py",
   "mimetype": "text/x-python",
   "name": "python",
   "nbconvert_exporter": "python",
   "pygments_lexer": "ipython3",
   "version": "3.12.4"
  }
 },
 "nbformat": 4,
 "nbformat_minor": 5
}
